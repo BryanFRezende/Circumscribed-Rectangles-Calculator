{
  "nbformat": 4,
  "nbformat_minor": 0,
  "metadata": {
    "colab": {
      "name": "Circumscribed Rectangles Calculator.ipynb",
      "provenance": [],
      "authorship_tag": "ABX9TyODxiz13+v7aqxigF8U/2p7",
      "include_colab_link": true
    },
    "kernelspec": {
      "name": "python3",
      "display_name": "Python 3"
    },
    "language_info": {
      "name": "python"
    }
  },
  "cells": [
    {
      "cell_type": "markdown",
      "metadata": {
        "id": "view-in-github",
        "colab_type": "text"
      },
      "source": [
        "<a href=\"https://colab.research.google.com/github/BryanFRezende/Circumscribed-Rectangles-Calculator/blob/main/Circumscribed_Rectangles_Calculator.ipynb\" target=\"_parent\"><img src=\"https://colab.research.google.com/assets/colab-badge.svg\" alt=\"Open In Colab\"/></a>"
      ]
    },
    {
      "cell_type": "code",
      "execution_count": 1,
      "metadata": {
        "id": "3dKUGA3Citwk"
      },
      "outputs": [],
      "source": [
        "import numpy as np\n",
        "import matplotlib.pyplot as plt"
      ]
    },
    {
      "cell_type": "code",
      "source": [
        "# Prompt user for inputs w, a, b\n",
        "IN = [input(\"Enter the input parameters for outside rectangle width 'w'\\n inside rectangle height 'a' and inside rectangle width 'b'. \\nw: \"),\n",
        "      input(\"a: \"), input(\"b: \")]\n",
        "\n",
        "# Define variables\n",
        "a = float(IN[1])\n",
        "b = float(IN[2])\n",
        "w = float(IN[0])\n",
        "\n",
        "hyp = a**2 + b**2\n",
        "c = np.sqrt(hyp)\n",
        "phi = np.arcsin(b/c)\n",
        "tha = np.arccos(w/c) + phi\n",
        "\n",
        "v1 = b * np.cos(tha)\n",
        "v2 = b * np.sin(tha)\n",
        "\n",
        "# Calculate height of outter rectangle\n",
        "h = a * np.sin(tha) + b * np.cos(tha)\n",
        "\n",
        "# Calculate the vertices formed by the bottom left triangle\n",
        "u1 = h - v1\n",
        "u2 = w - v2\n",
        "\n",
        "# Output information\n",
        "print(\"\\n\\nInside rectangle dimensions:\\nheight =\", a, \"\\nwidth =\", b, \"\\n\\nOutside rectangle dimensions:\\nheight =\", h, \"\\nwidth =\", w,\n",
        "      \"\\nvertex 1: ( 0 ,\", v1, \")\\nvertex 2: (\", v2,\", 0 )\\n\\n\")\n",
        "\n",
        "# Plot the information\n",
        "x = np.array([0, 0, w, w, v2, 0, u2, w, v2, 0])\n",
        "y = np.array([0, h, h, 0, 0, v1, h, u1, 0, 0])\n",
        "\n",
        "xx = np.vstack([x[0:-1:1], x[1::1]])\n",
        "yy = np.vstack([y[0:-1:1], y[1::1]])\n",
        "\n",
        "xb = round(w+1, 0)\n",
        "yb = round(h+1, 0)\n",
        "bound = 0\n",
        "\n",
        "if xb >= yb:\n",
        "  bound = xb\n",
        "else:\n",
        "  bound = yb\n",
        "\n",
        "plt.plot(xx,yy,color=\"black\");\n",
        "plt.xlim([-1, bound])\n",
        "plt.ylim([-1, bound])\n",
        "plt.gca().set_aspect('equal', adjustable='box')\n",
        "plt.draw()\n",
        "plt.annotate('a',(11*u2/20,h-u1/2))\n",
        "plt.annotate('b',(v2/2,11*v1/20))\n",
        "plt.annotate('h',(-.5,h/2))\n",
        "plt.annotate('w',(w/2, -.5))\n",
        "plt.show()\n"
      ],
      "metadata": {
        "colab": {
          "base_uri": "https://localhost:8080/",
          "height": 577
        },
        "id": "JhAfQzorjFEm",
        "outputId": "642ccf59-d044-406b-cc2a-fc251ea370ec"
      },
      "execution_count": 17,
      "outputs": [
        {
          "output_type": "stream",
          "name": "stdout",
          "text": [
            "Enter the input parameters for outside rectangle width 'w'\n",
            " inside rectangle height 'a' and inside rectangle width 'b'. \n",
            "w: 3\n",
            "a: 10\n",
            "b: 1\n",
            "\n",
            "\n",
            "Inside rectangle dimensions:\n",
            "height = 10.0 \n",
            "width = 1.0 \n",
            "\n",
            "Outside rectangle dimensions:\n",
            "height = 9.995788530850678 \n",
            "width = 3.0 \n",
            "vertex 1: ( 0 , 0.2020627421126193 )\n",
            "vertex 2: ( 0.9793725788738059 , 0 )\n",
            "\n",
            "\n"
          ]
        },
        {
          "output_type": "display_data",
          "data": {
            "text/plain": [
              "<Figure size 432x288 with 1 Axes>"
            ],
            "image/png": "[encoded data removed]"
          },
          "metadata": {
            "needs_background": "light"
          }
        }
      ]
    },
    {
      "cell_type": "code",
      "source": [
        ""
      ],
      "metadata": {
        "id": "u2K2ia8_mCWX"
      },
      "execution_count": null,
      "outputs": []
    }
  ]
}